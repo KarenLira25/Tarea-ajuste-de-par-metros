{
  "nbformat": 4,
  "nbformat_minor": 0,
  "metadata": {
    "colab": {
      "provenance": [],
      "mount_file_id": "1f8VqFI6C4j8FQkePrpuv0xF8imxMhb-C",
      "authorship_tag": "ABX9TyN+7xFADAnGeUZcNbu6QTYz",
      "include_colab_link": true
    },
    "kernelspec": {
      "name": "python3",
      "display_name": "Python 3"
    },
    "language_info": {
      "name": "python"
    }
  },
  "cells": [
    {
      "cell_type": "markdown",
      "metadata": {
        "id": "view-in-github",
        "colab_type": "text"
      },
      "source": [
        "<a href=\"https://colab.research.google.com/github/KarenLira25/Tarea-ajuste-de-par-metros/blob/main/Tarea3_Ajuste_parametros.ipynb\" target=\"_parent\"><img src=\"https://colab.research.google.com/assets/colab-badge.svg\" alt=\"Open In Colab\"/></a>"
      ]
    },
    {
      "cell_type": "code",
      "execution_count": 86,
      "metadata": {
        "id": "DGlSX5l_TjYE"
      },
      "outputs": [],
      "source": [
        "import pandas as pd\n",
        "import numpy as np\n",
        "import matplotlib.pyplot as plt\n",
        "import scipy.stats as st"
      ]
    },
    {
      "cell_type": "markdown",
      "source": [
        "El archivo que se adjunta ”Pueblapos.csv” son datos de los casos registrados(nuevos casos) para Puebla reportados por la secretaría de salud.\n",
        "1.   Cargar los datos y Graficar\n",
        "2.   Ajustar la primera ola con mínimos cuadrados.\n",
        "3.   Ajustar la segunda ola con una cadena de Monte Carlo y dar intervalosde confianza para los parámetros.\n",
        "\n",
        "**Nota 1:**  Puede usar un modelo SIR o si lo prefieren un SEIR. \n",
        "\n",
        "**Nota 2:**  Recordar que los datos del archivo son los nuevos casos y no corresponden directamente  a  los  Infectados  (I)  de  un  modelo  SIR.  Tienen  que  definir  una  nueva ecuación que sean los casos acumulados y transformar los datos en casos acumulados.  Es decir, la suma de los casos hasta el tiempo t.\n"
      ],
      "metadata": {
        "id": "H3n5PHGST3Yd"
      }
    },
    {
      "cell_type": "code",
      "source": [
        "from google.colab import drive\n",
        "drive.mount('/content/drive') "
      ],
      "metadata": {
        "id": "UdmWruhCUt0c",
        "colab": {
          "base_uri": "https://localhost:8080/"
        },
        "outputId": "200a3461-b183-41fb-8736-1f33ab309390"
      },
      "execution_count": 87,
      "outputs": [
        {
          "output_type": "stream",
          "name": "stdout",
          "text": [
            "Drive already mounted at /content/drive; to attempt to forcibly remount, call drive.mount(\"/content/drive\", force_remount=True).\n"
          ]
        }
      ]
    },
    {
      "cell_type": "markdown",
      "source": [
        "#1. Cargar los datos y Graficar"
      ],
      "metadata": {
        "id": "WEJ9sDI4XJLy"
      }
    },
    {
      "cell_type": "code",
      "source": [
        "file_name = '/content/drive/MyDrive/Puebla_pos.csv'\n",
        "df = pd.read_csv(file_name) \n",
        "df"
      ],
      "metadata": {
        "colab": {
          "base_uri": "https://localhost:8080/",
          "height": 423
        },
        "id": "hx_-HESVXNTf",
        "outputId": "df01e80b-1bc8-4c84-a67e-3afaf65a3ab1"
      },
      "execution_count": 88,
      "outputs": [
        {
          "output_type": "execute_result",
          "data": {
            "text/plain": [
              "     Unnamed: 0 FECHA_SINTOMAS  positivo\n",
              "0             0     2020-03-02         1\n",
              "1             1     2020-03-05         2\n",
              "2             2     2020-03-08         3\n",
              "3             3     2020-03-09         4\n",
              "4             4     2020-03-10         3\n",
              "..          ...            ...       ...\n",
              "673         673     2022-01-09       493\n",
              "674         674     2022-01-10       556\n",
              "675         675     2022-01-11       287\n",
              "676         676     2022-01-12       149\n",
              "677         677     2022-01-13        33\n",
              "\n",
              "[678 rows x 3 columns]"
            ],
            "text/html": [
              "\n",
              "  <div id=\"df-f3847220-7a3e-4d29-b6ab-f0b914f4e2c5\">\n",
              "    <div class=\"colab-df-container\">\n",
              "      <div>\n",
              "<style scoped>\n",
              "    .dataframe tbody tr th:only-of-type {\n",
              "        vertical-align: middle;\n",
              "    }\n",
              "\n",
              "    .dataframe tbody tr th {\n",
              "        vertical-align: top;\n",
              "    }\n",
              "\n",
              "    .dataframe thead th {\n",
              "        text-align: right;\n",
              "    }\n",
              "</style>\n",
              "<table border=\"1\" class=\"dataframe\">\n",
              "  <thead>\n",
              "    <tr style=\"text-align: right;\">\n",
              "      <th></th>\n",
              "      <th>Unnamed: 0</th>\n",
              "      <th>FECHA_SINTOMAS</th>\n",
              "      <th>positivo</th>\n",
              "    </tr>\n",
              "  </thead>\n",
              "  <tbody>\n",
              "    <tr>\n",
              "      <th>0</th>\n",
              "      <td>0</td>\n",
              "      <td>2020-03-02</td>\n",
              "      <td>1</td>\n",
              "    </tr>\n",
              "    <tr>\n",
              "      <th>1</th>\n",
              "      <td>1</td>\n",
              "      <td>2020-03-05</td>\n",
              "      <td>2</td>\n",
              "    </tr>\n",
              "    <tr>\n",
              "      <th>2</th>\n",
              "      <td>2</td>\n",
              "      <td>2020-03-08</td>\n",
              "      <td>3</td>\n",
              "    </tr>\n",
              "    <tr>\n",
              "      <th>3</th>\n",
              "      <td>3</td>\n",
              "      <td>2020-03-09</td>\n",
              "      <td>4</td>\n",
              "    </tr>\n",
              "    <tr>\n",
              "      <th>4</th>\n",
              "      <td>4</td>\n",
              "      <td>2020-03-10</td>\n",
              "      <td>3</td>\n",
              "    </tr>\n",
              "    <tr>\n",
              "      <th>...</th>\n",
              "      <td>...</td>\n",
              "      <td>...</td>\n",
              "      <td>...</td>\n",
              "    </tr>\n",
              "    <tr>\n",
              "      <th>673</th>\n",
              "      <td>673</td>\n",
              "      <td>2022-01-09</td>\n",
              "      <td>493</td>\n",
              "    </tr>\n",
              "    <tr>\n",
              "      <th>674</th>\n",
              "      <td>674</td>\n",
              "      <td>2022-01-10</td>\n",
              "      <td>556</td>\n",
              "    </tr>\n",
              "    <tr>\n",
              "      <th>675</th>\n",
              "      <td>675</td>\n",
              "      <td>2022-01-11</td>\n",
              "      <td>287</td>\n",
              "    </tr>\n",
              "    <tr>\n",
              "      <th>676</th>\n",
              "      <td>676</td>\n",
              "      <td>2022-01-12</td>\n",
              "      <td>149</td>\n",
              "    </tr>\n",
              "    <tr>\n",
              "      <th>677</th>\n",
              "      <td>677</td>\n",
              "      <td>2022-01-13</td>\n",
              "      <td>33</td>\n",
              "    </tr>\n",
              "  </tbody>\n",
              "</table>\n",
              "<p>678 rows × 3 columns</p>\n",
              "</div>\n",
              "      <button class=\"colab-df-convert\" onclick=\"convertToInteractive('df-f3847220-7a3e-4d29-b6ab-f0b914f4e2c5')\"\n",
              "              title=\"Convert this dataframe to an interactive table.\"\n",
              "              style=\"display:none;\">\n",
              "        \n",
              "  <svg xmlns=\"http://www.w3.org/2000/svg\" height=\"24px\"viewBox=\"0 0 24 24\"\n",
              "       width=\"24px\">\n",
              "    <path d=\"M0 0h24v24H0V0z\" fill=\"none\"/>\n",
              "    <path d=\"M18.56 5.44l.94 2.06.94-2.06 2.06-.94-2.06-.94-.94-2.06-.94 2.06-2.06.94zm-11 1L8.5 8.5l.94-2.06 2.06-.94-2.06-.94L8.5 2.5l-.94 2.06-2.06.94zm10 10l.94 2.06.94-2.06 2.06-.94-2.06-.94-.94-2.06-.94 2.06-2.06.94z\"/><path d=\"M17.41 7.96l-1.37-1.37c-.4-.4-.92-.59-1.43-.59-.52 0-1.04.2-1.43.59L10.3 9.45l-7.72 7.72c-.78.78-.78 2.05 0 2.83L4 21.41c.39.39.9.59 1.41.59.51 0 1.02-.2 1.41-.59l7.78-7.78 2.81-2.81c.8-.78.8-2.07 0-2.86zM5.41 20L4 18.59l7.72-7.72 1.47 1.35L5.41 20z\"/>\n",
              "  </svg>\n",
              "      </button>\n",
              "      \n",
              "  <style>\n",
              "    .colab-df-container {\n",
              "      display:flex;\n",
              "      flex-wrap:wrap;\n",
              "      gap: 12px;\n",
              "    }\n",
              "\n",
              "    .colab-df-convert {\n",
              "      background-color: #E8F0FE;\n",
              "      border: none;\n",
              "      border-radius: 50%;\n",
              "      cursor: pointer;\n",
              "      display: none;\n",
              "      fill: #1967D2;\n",
              "      height: 32px;\n",
              "      padding: 0 0 0 0;\n",
              "      width: 32px;\n",
              "    }\n",
              "\n",
              "    .colab-df-convert:hover {\n",
              "      background-color: #E2EBFA;\n",
              "      box-shadow: 0px 1px 2px rgba(60, 64, 67, 0.3), 0px 1px 3px 1px rgba(60, 64, 67, 0.15);\n",
              "      fill: #174EA6;\n",
              "    }\n",
              "\n",
              "    [theme=dark] .colab-df-convert {\n",
              "      background-color: #3B4455;\n",
              "      fill: #D2E3FC;\n",
              "    }\n",
              "\n",
              "    [theme=dark] .colab-df-convert:hover {\n",
              "      background-color: #434B5C;\n",
              "      box-shadow: 0px 1px 3px 1px rgba(0, 0, 0, 0.15);\n",
              "      filter: drop-shadow(0px 1px 2px rgba(0, 0, 0, 0.3));\n",
              "      fill: #FFFFFF;\n",
              "    }\n",
              "  </style>\n",
              "\n",
              "      <script>\n",
              "        const buttonEl =\n",
              "          document.querySelector('#df-f3847220-7a3e-4d29-b6ab-f0b914f4e2c5 button.colab-df-convert');\n",
              "        buttonEl.style.display =\n",
              "          google.colab.kernel.accessAllowed ? 'block' : 'none';\n",
              "\n",
              "        async function convertToInteractive(key) {\n",
              "          const element = document.querySelector('#df-f3847220-7a3e-4d29-b6ab-f0b914f4e2c5');\n",
              "          const dataTable =\n",
              "            await google.colab.kernel.invokeFunction('convertToInteractive',\n",
              "                                                     [key], {});\n",
              "          if (!dataTable) return;\n",
              "\n",
              "          const docLinkHtml = 'Like what you see? Visit the ' +\n",
              "            '<a target=\"_blank\" href=https://colab.research.google.com/notebooks/data_table.ipynb>data table notebook</a>'\n",
              "            + ' to learn more about interactive tables.';\n",
              "          element.innerHTML = '';\n",
              "          dataTable['output_type'] = 'display_data';\n",
              "          await google.colab.output.renderOutput(dataTable, element);\n",
              "          const docLink = document.createElement('div');\n",
              "          docLink.innerHTML = docLinkHtml;\n",
              "          element.appendChild(docLink);\n",
              "        }\n",
              "      </script>\n",
              "    </div>\n",
              "  </div>\n",
              "  "
            ]
          },
          "metadata": {},
          "execution_count": 88
        }
      ]
    },
    {
      "cell_type": "code",
      "source": [
        "print(df.dtypes)"
      ],
      "metadata": {
        "colab": {
          "base_uri": "https://localhost:8080/"
        },
        "id": "SIZMczM8txTP",
        "outputId": "0b6a687c-3664-4023-a6db-56e5c56582d8"
      },
      "execution_count": 89,
      "outputs": [
        {
          "output_type": "stream",
          "name": "stdout",
          "text": [
            "Unnamed: 0         int64\n",
            "FECHA_SINTOMAS    object\n",
            "positivo           int64\n",
            "dtype: object\n"
          ]
        }
      ]
    },
    {
      "cell_type": "code",
      "source": [
        "from datetime import datetime\n",
        "#Filrar los datos por años\n",
        "\n",
        "#convierto los datos de la columna FECHA_SINTOMAS a datos de tipo fecha para poderlos agrupar por año \n",
        "df['FECHA_SINTOMAS'] = pd.to_datetime(df['FECHA_SINTOMAS'])\n",
        "#dejo el índice del dataframe en relación a la fecha (columna 'FECHA_SINTOMAS') \n",
        "df = df.set_index('FECHA_SINTOMAS')\n",
        "#selecciono los datos que sean del año 2020 y los guardo en la variable A2020\n",
        "A2020=df.loc[\"2020\"]\n",
        "#repito la anterior para los años 2021 y 2022\n",
        "A2021=df.loc[\"2021\"]\n",
        "A2022=df.loc[\"2022\"]\n",
        "#print(A2020)\n",
        "#print(A2021)\n",
        "#print(A2022)"
      ],
      "metadata": {
        "id": "Ad2tGJMTieNA"
      },
      "execution_count": 90,
      "outputs": []
    },
    {
      "cell_type": "code",
      "source": [
        "#Filtrar los datos por meses para obtener el nuemro total de casos positivos en cada mes\n",
        "\n",
        "#.groupby(A2020.index.month) es para agrupar los datos de ese año por mes\n",
        "#.sum('positivo') es para obtener la suma total de casos positivos por mes\n",
        "#.reset_index() es para que deje de tomar la columna de FECHA_SINTOMAS como índices\n",
        "#.drop(['Unnamed: 0'], axis=1) es para borrar la columna que enumeraba los renglones de la tabla original\n",
        "Año2020=A2020.groupby(A2020.index.month).sum('positivo').reset_index().drop(['Unnamed: 0'], axis=1) \n",
        "Año2021=A2021.groupby(A2021.index.month).sum('positivo').reset_index().drop(['Unnamed: 0'], axis=1)\n",
        "Año2022=A2022.groupby(A2022.index.month).sum('positivo').reset_index().drop(['Unnamed: 0'], axis=1)\n",
        "#print(Año2020)\n",
        "#print(Año2021)\n",
        "#print(Año2022)"
      ],
      "metadata": {
        "id": "uuxTpMzHljMd"
      },
      "execution_count": 91,
      "outputs": []
    },
    {
      "cell_type": "code",
      "source": [
        "#Grafico los datos\n",
        "plt.title(\"Casos registrados\")\n",
        "\n",
        "plt.xticks(Año2021['FECHA_SINTOMAS'])\n",
        "width = 0.25\n",
        "\n",
        "plt.bar(Año2020['FECHA_SINTOMAS']-width,Año2020['positivo'],color=\"red\", width=width, label=\"Año 2020\")\n",
        "plt.legend(loc=\"upper left\")\n",
        "plt.bar(Año2021['FECHA_SINTOMAS'],Año2021['positivo'],color=\"purple\", width=width, label=\"Año 2021\")\n",
        "plt.legend(loc=\"upper left\")\n",
        "plt.bar(Año2022['FECHA_SINTOMAS']+width,Año2022['positivo'],color=\"blue\", width=width, label=\"Año 2022\")\n",
        "plt.legend(loc=\"upper right\")\n",
        "\n",
        "plt.xlabel(\"Meses\") \n",
        "plt.ylabel(\"Número de casos positivos\") "
      ],
      "metadata": {
        "colab": {
          "base_uri": "https://localhost:8080/",
          "height": 489
        },
        "id": "g7fFJj4XXjp_",
        "outputId": "9fa03ad4-14cc-4c3c-dd27-f039991e42e1"
      },
      "execution_count": 92,
      "outputs": [
        {
          "output_type": "execute_result",
          "data": {
            "text/plain": [
              "Text(0, 0.5, 'Número de casos positivos')"
            ]
          },
          "metadata": {},
          "execution_count": 92
        },
        {
          "output_type": "display_data",
          "data": {
            "text/plain": [
              "<Figure size 640x480 with 1 Axes>"
            ],
            "image/png": "[encoded data removed]"
          },
          "metadata": {}
        }
      ]
    },
    {
      "cell_type": "markdown",
      "source": [
        "#2. Ajustar la primera ola con mínimos cuadrados."
      ],
      "metadata": {
        "id": "NmDY4JBfXOdd"
      }
    },
    {
      "cell_type": "markdown",
      "source": [
        "#3.Ajustar la segunda ola con una cadena de Monte Carlo y dar intervalosde confianza para los parámetros."
      ],
      "metadata": {
        "id": "d15S-u3JXaV6"
      }
    }
  ]
}